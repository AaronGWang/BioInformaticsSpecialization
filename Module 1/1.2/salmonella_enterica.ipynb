{
 "cells": [
  {
   "cell_type": "code",
   "execution_count": 1,
   "metadata": {},
   "outputs": [],
   "source": [
    "import pyperclip\n",
    "import matplotlib.pyplot as plt\n",
    "import numpy as np"
   ]
  },
  {
   "cell_type": "code",
   "execution_count": 2,
   "metadata": {},
   "outputs": [],
   "source": [
    "def computeSkew(a: str, b: str, sequence: str):\n",
    "  skew = np.zeros(len(sequence) + 1)\n",
    "  for i in range(len(sequence)):\n",
    "      if sequence[i] == a:\n",
    "          skew[i + 1] = skew[i] + 1\n",
    "      elif sequence[i] == b:\n",
    "          skew[i + 1] = skew[i] - 1\n",
    "      else:\n",
    "          skew[i + 1] = skew[i]\n",
    "  return skew\n",
    "\n",
    "\n",
    "def findOri(sequence: str):\n",
    "  skew = computeSkew(\"G\", \"C\", sequence)\n",
    "  minSkew = np.min(skew)\n",
    "  ori = np.where(skew == minSkew)[0]\n",
    "  return ori\n",
    "\n",
    "\n",
    "def plotSkew(sequence: str):\n",
    "  skew = computeSkew(\"G\", \"C\", sequence)\n",
    "  plt.plot(skew)\n",
    "  plt.show()"
   ]
  },
  {
   "cell_type": "code",
   "execution_count": 14,
   "metadata": {},
   "outputs": [
    {
     "data": {
      "image/png": "[encoded data removed]",
      "text/plain": [
       "<Figure size 640x480 with 1 Axes>"
      ]
     },
     "metadata": {},
     "output_type": "display_data"
    },
    {
     "name": "stdout",
     "output_type": "stream",
     "text": [
      "[3764856 3764858]\n"
     ]
    }
   ],
   "source": [
    "text = open(\"salmonella_enterica.txt\", \"r\")\n",
    "sequence = text.read().strip()\n",
    "k = 9\n",
    "d = 1\n",
    "\n",
    "plotSkew(sequence)\n",
    "print(findOri(sequence))"
   ]
  },
  {
   "cell_type": "code",
   "execution_count": 15,
   "metadata": {},
   "outputs": [
    {
     "data": {
      "text/plain": [
       "(3764857, (3764607, 3765107))"
      ]
     },
     "execution_count": 15,
     "metadata": {},
     "output_type": "execute_result"
    }
   ],
   "source": [
    "ori = int(findOri(sequence)[0] + ((findOri(sequence)[1] - findOri(sequence)[0]) / 2))\n",
    "oriWindow = (int(ori - 250), int(ori + 250))\n",
    "\n",
    "ori, oriWindow"
   ]
  },
  {
   "cell_type": "code",
   "execution_count": 18,
   "metadata": {},
   "outputs": [
    {
     "data": {
      "text/plain": [
       "('CGATCAATGGCAGACATTACTCTTATCAGCGGCAGCACCCTGGGCGGCGCCGAATACGTCGCGGAACATCTGGCGGAAAAGCTGGAAGCTGCCGGTTTTTCAACCGAAACGGTGCACGGTCCGTTATTAGAGGATCTGTCAACTTCCGGGATCTGGCTGATAATCAGCTCAACGCACGGCGCCGGAGACATTCCGGACAACCTGACCCCTTTCTATGAAGACCTTCAGACGCAGAAACCCGATCTTTCCGCGGTACGTTTCGGCGCAATTGGCATTGGCAGTCGAGAATACGACACGTTTTGCGGCGCGATTGAGAAAATAGAAGCGGAACTGAAAGGCGCTGGCGCAAAACAGGTTGGGGAAACACTGAAGATCAACATCCTTGAACATGAGATTCCGGAAGATCCAGCGGAGATTTGGCTCGGATCCTGGATTAATTTACTCAAATAAGTGTAAAGATCGTGCGATCTATTGTGGATAAATATGGTGAAAAGCTTGGA',\n",
       " 500)"
      ]
     },
     "execution_count": 18,
     "metadata": {},
     "output_type": "execute_result"
    }
   ],
   "source": [
    "window = sequence[oriWindow[0]:oriWindow[1]]\n",
    "\n",
    "window, len(window)"
   ]
  },
  {
   "cell_type": "code",
   "execution_count": 19,
   "metadata": {},
   "outputs": [],
   "source": [
    "def MaxMap(freqMap: dict):\n",
    "    maximum = 0\n",
    "    for key in freqMap.keys():\n",
    "        if freqMap[key] > maximum:\n",
    "            maximum = freqMap[key]\n",
    "    return maximum\n",
    "\n",
    "\n",
    "def immediateNeighbors(pattern):\n",
    "    neighborhood = []\n",
    "    for i in range(len(pattern)):\n",
    "        symbol = pattern[i]\n",
    "        for nucleotide in 'ACGT':\n",
    "            if nucleotide != symbol:\n",
    "                neighbor = pattern[:i] + nucleotide + pattern[i+1:]\n",
    "                neighborhood.append(neighbor)\n",
    "    return neighborhood\n",
    "\n",
    "\n",
    "dnaDict = {\n",
    "    \"A\": \"T\", \n",
    "    \"T\": \"A\", \n",
    "    \"C\": \"G\", \n",
    "    \"G\": \"C\"\n",
    "}\n",
    "\n",
    "def dnaCompliment(sequence: str):\n",
    "    compliment = \"\"\n",
    "    sequence = sequence.strip()\n",
    "    for char in sequence:\n",
    "        compliment += dnaDict[char]\n",
    "    compliment = compliment[::-1]\n",
    "    return compliment\n",
    "\n",
    "\n",
    "def iterativeNeighbors(pattern, d):\n",
    "    neighborhood = {pattern}\n",
    "    for j in range(d):\n",
    "        for text in neighborhood.copy():\n",
    "            neighborhood = neighborhood.union(immediateNeighbors(text))\n",
    "    return neighborhood\n",
    "\n",
    "\n",
    "def frequentWordsWithMismatches(text, k, d):\n",
    "    Patterns = []\n",
    "    freqMap = {}\n",
    "    n = len(text)\n",
    "\n",
    "    for i in range(n - k + 1):\n",
    "        pattern = text[i:i + k]\n",
    "        neighborhood = iterativeNeighbors(pattern, d)\n",
    "\n",
    "        for neighbor in neighborhood:\n",
    "            if neighbor not in freqMap:\n",
    "                freqMap[neighbor] = 1\n",
    "            else:\n",
    "                freqMap[neighbor] += 1\n",
    "\n",
    "\n",
    "            complement = dnaCompliment(neighbor)\n",
    "            if complement not in freqMap:\n",
    "                freqMap[complement] = 1\n",
    "            else:\n",
    "                freqMap[complement] += 1\n",
    "\n",
    "    maxCount = MaxMap(freqMap)\n",
    "\n",
    "    for pattern in freqMap.keys():\n",
    "        if freqMap[pattern] == maxCount:\n",
    "            Patterns.append(pattern)\n",
    "\n",
    "    return Patterns"
   ]
  },
  {
   "cell_type": "code",
   "execution_count": 22,
   "metadata": {},
   "outputs": [
    {
     "data": {
      "text/plain": [
       "'CCGGAAGCT AGCTTCCGG'"
      ]
     },
     "execution_count": 22,
     "metadata": {},
     "output_type": "execute_result"
    }
   ],
   "source": [
    "patterns = frequentWordsWithMismatches(window, k, d)\n",
    "patterns = \" \".join(patterns)\n",
    "pyperclip.copy(patterns)\n",
    "\n",
    "patterns"
   ]
  },
  {
   "cell_type": "code",
   "execution_count": null,
   "metadata": {},
   "outputs": [],
   "source": []
  }
 ],
 "metadata": {
  "kernelspec": {
   "display_name": "Python 3",
   "language": "python",
   "name": "python3"
  },
  "language_info": {
   "codemirror_mode": {
    "name": "ipython",
    "version": 3
   },
   "file_extension": ".py",
   "mimetype": "text/x-python",
   "name": "python",
   "nbconvert_exporter": "python",
   "pygments_lexer": "ipython3",
   "version": "3.10.6"
  }
 },
 "nbformat": 4,
 "nbformat_minor": 2
}
